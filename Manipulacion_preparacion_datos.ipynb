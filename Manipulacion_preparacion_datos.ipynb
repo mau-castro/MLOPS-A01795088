{
 "cells": [
  {
   "cell_type": "markdown",
   "metadata": {},
   "source": [
    "# Manipulación y preparación de datos\n",
    "\n",
    "Tarea:\n",
    "Realizar tareas de manipulación y preparación de datos utilizando herramientas y bibliotecas específicas.\n",
    "\n",
    "Instrucciones:\n",
    "\n",
    "Importar los conjuntos de datos con los que se trabajará.\n",
    "Realizar tareas de limpieza de datos, eliminando valores nulos o inconsistentes.\n",
    "Realizar transformaciones necesarias para preparar los datos para el análisis y modelado.\n",
    "\n",
    "Importancia: Esta fase es crucial para asegurar que los datos estén en un formato adecuado y limpio, lo que es esencial para la construcción de modelos precisos y fiables."
   ]
  },
  {
   "cell_type": "markdown",
   "metadata": {},
   "source": [
    "#### Importamos las librerias necesarias para las tareas"
   ]
  },
  {
   "cell_type": "code",
   "execution_count": 155,
   "metadata": {},
   "outputs": [],
   "source": [
    "import pandas as pd"
   ]
  },
  {
   "cell_type": "markdown",
   "metadata": {},
   "source": [
    "#### Importamos los datos para trabajar con ellos"
   ]
  },
  {
   "cell_type": "code",
   "execution_count": 156,
   "metadata": {},
   "outputs": [],
   "source": [
    "#Cargamos los datos de los archivos csv en dataframes de pandas\n",
    "Mutations_df = pd.read_csv(\"./DataSet_Equipo17/TCGA_GBM_LGG_Mutations_all.csv\")\n",
    "info_df = pd.read_csv(\"./DataSet_Equipo17/TCGA_InfoWithGrade.csv\")"
   ]
  },
  {
   "cell_type": "markdown",
   "metadata": {},
   "source": [
    "#### Hacemos tecnicas de limpieza de datos para su futuro análisis"
   ]
  },
  {
   "cell_type": "code",
   "execution_count": 157,
   "metadata": {},
   "outputs": [],
   "source": [
    "# Limpieza de datos\n",
    "# Eliminar filas con valores nulos\n",
    "Mutations_df.dropna(inplace=True)\n",
    "# Pareciera que el dataset de info ya fue limpiado previamente pues todos los datos estan trabajados por lo que enfocare en limpiar el dataset de mutaciones\n",
    "info_df.dropna(inplace=True)"
   ]
  },
  {
   "cell_type": "code",
   "execution_count": 158,
   "metadata": {},
   "outputs": [],
   "source": [
    "# Reemplazar los valores de las columnas que  pueden ser tratados como datos binarios \n",
    "# como las columnas que informan de mutaciones, grado y genero por 0 o 1 para facilitar el análisis \n",
    "Mutations_df.replace({'NOT_MUTATED': 0, 'MUTATED': 1}, inplace=True)\n",
    "Mutations_df.replace({'Female': 0, 'Male': 1}, inplace=True)\n",
    "Mutations_df.replace({'LGG': 0, 'GBM': 1}, inplace=True)\n"
   ]
  },
  {
   "cell_type": "code",
   "execution_count": 159,
   "metadata": {},
   "outputs": [],
   "source": [
    "# Crear diccionario de mapeo para la columna Race\n",
    "race_mapping = {\n",
    "    'not reported': 0,\n",
    "    '--': 0,\n",
    "    'white': 1,\n",
    "    'black or african american': 2,\n",
    "    'asian': 3,\n",
    "    'american indian or alaska native': 4\n",
    "}\n",
    "\n",
    "# Aplicar el mapeo a la columna Race\n",
    "Mutations_df['Race'] = Mutations_df['Race'].map(race_mapping)"
   ]
  },
  {
   "cell_type": "code",
   "execution_count": 160,
   "metadata": {},
   "outputs": [],
   "source": [
    "# Función para convertir 'years days' a número decimal\n",
    "def convertir_edad_decimal(age_str):\n",
    "    try:\n",
    "        if not \"days\" in age_str:\n",
    "            return float(age_str.split(' years')[0])\n",
    "        else:\n",
    "            if ' years ' in age_str:\n",
    "                years, days = age_str.split(' years ')\n",
    "                years = int(years)\n",
    "                days = int(days.split(' days')[0])\n",
    "                return round(years + days / 365.25, 2)  # Redondear a 2 decimales\n",
    "    except ValueError:\n",
    "        # En caso de que no se tenga el valor de la edad, devolver None\n",
    "        return None\n",
    "\n",
    "# Aplicar la función a la columna 'Age_at_diagnosis'\n",
    "Mutations_df['Age_at_diagnosis'] = Mutations_df['Age_at_diagnosis'].apply(convertir_edad_decimal)\n",
    "\n"
   ]
  },
  {
   "cell_type": "code",
   "execution_count": 161,
   "metadata": {},
   "outputs": [],
   "source": [
    "#Elimnar las columnas que no se utilizarán, en estes caso no creo conveniente tener la columna de \"Project\" y la de \"Case_ID\" \n",
    "# ya que el proyecto se puede sacar con el grade y el case Id son indiferentes para el analisis de datos posterior\n",
    "Mutations_df.drop(columns=['Project', 'Case_ID'], inplace=True)"
   ]
  },
  {
   "cell_type": "code",
   "execution_count": 162,
   "metadata": {},
   "outputs": [],
   "source": [
    "# Función para extraer el tipo de tumor y la especificación del tumor\n",
    "def extraer_tumor_info(diagnosis):\n",
    "    if diagnosis == '--' or diagnosis not in ['Oligodendroglioma, NOS', 'Glioblastoma' , 'Mixed glioma', 'Astrocytoma, NOS', 'Astrocytoma, anaplastic', 'Oligodendroglioma, anaplastic']:\n",
    "        return pd.Series([None, None])\n",
    "    else:\n",
    "        parts = diagnosis.split(', ')\n",
    "        tumor_type = parts[0]\n",
    "        tumor_specification = parts[1] if len(parts) > 1 else None\n",
    "        return pd.Series([tumor_type, tumor_specification])\n",
    "\n",
    "mapeo_tumor = {\n",
    "    \"Oligodendroglioma\": 0,\n",
    "    \"Mixed glioma\": 1,\n",
    "    \"Astrocytoma\": 2,\n",
    "    \"Glioblastoma\": 3\n",
    "}\n",
    "mapeo_tipo_tumor = {\n",
    "    None: 0,\n",
    "    \"NOS\": 1,\n",
    "    \"anaplastic\": 2\n",
    "}\n",
    "\n",
    "# Aplicar la función a la columna 'Primary_Diagnosis'\n",
    "Mutations_df[['Tumor_Type', 'Tumor_Specification']] = Mutations_df['Primary_Diagnosis'].apply(extraer_tumor_info)\n",
    "\n",
    "\n",
    "# Eliminar filas con 'Primary_Diagnosis' como None o '--'\n",
    "Mutations_df = Mutations_df.dropna(subset=['Tumor_Type'])\n",
    "\n",
    "# Aplicar el mapeo a las columnas 'Tumor_Type' y 'Tumor_Specification'\n",
    "Mutations_df['Tumor_Type'] = Mutations_df['Tumor_Type'].map(mapeo_tumor)\n",
    "Mutations_df['Tumor_Specification'] = Mutations_df['Tumor_Specification'].map(mapeo_tipo_tumor)\n",
    "\n",
    "\n",
    "# Eliminar la columna 'Primary_Diagnosis' ya que no se utilizará\n",
    "Mutations_df.drop(columns=['Primary_Diagnosis'], inplace=True)\n",
    "\n"
   ]
  },
  {
   "cell_type": "code",
   "execution_count": 163,
   "metadata": {},
   "outputs": [],
   "source": [
    "# Ordenar las columnas del dataframe para que sea más fácil de leer\n",
    "column_order = ['Grade', 'Gender', 'Age_at_diagnosis', 'Race', 'Tumor_Type', 'Tumor_Specification' , 'IDH1', 'TP53', 'ATRX', 'PTEN', 'EGFR', 'CIC', 'MUC16', 'PIK3CA', 'NF1', 'PIK3R1', 'FUBP1', 'RB1', 'NOTCH1', 'BCOR', 'CSMD3', 'SMARCA4', 'GRIN2A', 'IDH2', 'FAT4', 'PDGFRA']\n",
    "Mutations_df = Mutations_df[column_order]"
   ]
  },
  {
   "cell_type": "markdown",
   "metadata": {},
   "source": [
    "#### Guardamos en un Dataset los datos limpios"
   ]
  },
  {
   "cell_type": "code",
   "execution_count": 166,
   "metadata": {},
   "outputs": [],
   "source": [
    "# Salvar el dataframe limpio en un nuevo archivo csv\n",
    "Mutations_df.to_csv(\"./TCGA_GBM_LGG_Mutations_clean.csv\", index=False)"
   ]
  },
  {
   "cell_type": "markdown",
   "metadata": {},
   "source": [
    "### Tablas de Mapeo\n",
    "\n",
    "#### [`race_mapping`](command:_github.copilot.openSymbolFromReferences?%5B%22%22%2C%5B%7B%22uri%22%3A%7B%22scheme%22%3A%22vscode-notebook-cell%22%2C%22authority%22%3A%22%22%2C%22path%22%3A%22%2Fc%3A%2FUsers%2FUsuario%2FDesktop%2FMaestria%2F4.-Trimestre%2FMNA%2FMLOPS-A01795088%2FManipulacion_preparacion_datos.ipynb%22%2C%22query%22%3A%22%22%2C%22fragment%22%3A%22X32sZmlsZQ%3D%3D%22%7D%2C%22pos%22%3A%7B%22line%22%3A0%2C%22character%22%3A0%7D%7D%5D%2C%22a40ff1a6-404b-4c81-92a6-5a2f575cffbc%22%5D \"Go to definition\")\n",
    "\n",
    "| Raza                             | Código |\n",
    "|----------------------------------|--------|\n",
    "| -- ó not reported                | 0      |\n",
    "| white                            | 1      |\n",
    "| black or african american        | 2      |\n",
    "| asian                            | 3      |\n",
    "| american indian or alaska native | 4      |\n",
    "\n",
    "#### [`mapeo_tumor`](command:_github.copilot.openSymbolFromReferences?%5B%22%22%2C%5B%7B%22uri%22%3A%7B%22scheme%22%3A%22vscode-notebook-cell%22%2C%22authority%22%3A%22%22%2C%22path%22%3A%22%2Fc%3A%2FUsers%2FUsuario%2FDesktop%2FMaestria%2F4.-Trimestre%2FMNA%2FMLOPS-A01795088%2FManipulacion_preparacion_datos.ipynb%22%2C%22query%22%3A%22%22%2C%22fragment%22%3A%22X32sZmlsZQ%3D%3D%22%7D%2C%22pos%22%3A%7B%22line%22%3A9%2C%22character%22%3A0%7D%7D%5D%2C%22a40ff1a6-404b-4c81-92a6-5a2f575cffbc%22%5D \"Go to definition\")\n",
    "\n",
    "| Tipo de Tumor       | Código |\n",
    "|---------------------|--------|\n",
    "| Oligodendroglioma   | 0      |\n",
    "| Mixed glioma        | 1      |\n",
    "| Astrocytoma         | 2      |\n",
    "| Glioblastoma        | 3      |\n",
    "\n",
    "#### [`mapeo_tipo_tumor`](command:_github.copilot.openSymbolFromReferences?%5B%22%22%2C%5B%7B%22uri%22%3A%7B%22scheme%22%3A%22vscode-notebook-cell%22%2C%22authority%22%3A%22%22%2C%22path%22%3A%22%2Fc%3A%2FUsers%2FUsuario%2FDesktop%2FMaestria%2F4.-Trimestre%2FMNA%2FMLOPS-A01795088%2FManipulacion_preparacion_datos.ipynb%22%2C%22query%22%3A%22%22%2C%22fragment%22%3A%22X32sZmlsZQ%3D%3D%22%7D%2C%22pos%22%3A%7B%22line%22%3A15%2C%22character%22%3A0%7D%7D%5D%2C%22a40ff1a6-404b-4c81-92a6-5a2f575cffbc%22%5D \"Go to definition\")\n",
    "\n",
    "| Especificación del Tumor | Código |\n",
    "|--------------------------|--------|\n",
    "| None                     | 0      |\n",
    "| NOS                      | 1      |\n",
    "| anaplastic               | 2      |"
   ]
  }
 ],
 "metadata": {
  "kernelspec": {
   "display_name": "Python 3",
   "language": "python",
   "name": "python3"
  },
  "language_info": {
   "codemirror_mode": {
    "name": "ipython",
    "version": 3
   },
   "file_extension": ".py",
   "mimetype": "text/x-python",
   "name": "python",
   "nbconvert_exporter": "python",
   "pygments_lexer": "ipython3",
   "version": "3.10.6"
  }
 },
 "nbformat": 4,
 "nbformat_minor": 2
}
