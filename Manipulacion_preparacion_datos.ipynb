{
 "cells": [
  {
   "cell_type": "markdown",
   "metadata": {},
   "source": [
    "# Manipulación y preparación de datos\n",
    "\n",
    "Tarea:\n",
    "Realizar tareas de manipulación y preparación de datos utilizando herramientas y bibliotecas específicas.\n",
    "\n",
    "Instrucciones:\n",
    "\n",
    "Importar los conjuntos de datos con los que se trabajará.\n",
    "Realizar tareas de limpieza de datos, eliminando valores nulos o inconsistentes.\n",
    "Realizar transformaciones necesarias para preparar los datos para el análisis y modelado.\n",
    "\n",
    "Importancia: Esta fase es crucial para asegurar que los datos estén en un formato adecuado y limpio, lo que es esencial para la construcción de modelos precisos y fiables."
   ]
  },
  {
   "cell_type": "markdown",
   "metadata": {},
   "source": [
    "#### Importamos las librerias necesarias para las tareas"
   ]
  },
  {
   "cell_type": "code",
   "execution_count": 123,
   "metadata": {},
   "outputs": [],
   "source": [
    "import pandas as pd"
   ]
  },
  {
   "cell_type": "markdown",
   "metadata": {},
   "source": [
    "#### Importamos los datos para trabajar con ellos"
   ]
  },
  {
   "cell_type": "code",
   "execution_count": 127,
   "metadata": {},
   "outputs": [],
   "source": [
    "#Cargamos los datos de los archivos csv en dataframes de pandas\n",
    "Mutations_df = pd.read_csv(\"./DataSet_Equipo17/TCGA_GBM_LGG_Mutations_all.csv\")\n",
    "info_df = pd.read_csv(\"./DataSet_Equipo17/TCGA_InfoWithGrade.csv\")"
   ]
  },
  {
   "cell_type": "markdown",
   "metadata": {},
   "source": [
    "#### Hacemos tecnicas de limpieza de datos para su futuro análisis"
   ]
  },
  {
   "cell_type": "code",
   "execution_count": 128,
   "metadata": {},
   "outputs": [],
   "source": [
    "# Limpieza de datos\n",
    "# Eliminar filas con valores nulos\n",
    "Mutations_df.dropna(inplace=True)\n",
    "# Pareciera que el dataset de info ya fue limpiado previamente pues todos los datos estan trabajados por lo que enfocare en limpiar el dataset de mutaciones\n",
    "info_df.dropna(inplace=True)"
   ]
  },
  {
   "cell_type": "code",
   "execution_count": 129,
   "metadata": {},
   "outputs": [],
   "source": [
    "# Reemplazar los valores de las columnas que  pueden ser tratados como datos binarios \n",
    "# como las columnas que informan de mutaciones, grado y genero por 0 o 1 para facilitar el análisis \n",
    "Mutations_df.replace({'NOT_MUTATED': 0, 'MUTATED': 1}, inplace=True)\n",
    "Mutations_df.replace({'Female': 0, 'Male': 1}, inplace=True)\n",
    "Mutations_df.replace({'LGG': 0, 'GBM': 1}, inplace=True)\n"
   ]
  },
  {
   "cell_type": "code",
   "execution_count": 130,
   "metadata": {},
   "outputs": [
    {
     "name": "stdout",
     "output_type": "stream",
     "text": [
      "   Race\n",
      "0     1\n",
      "1     1\n",
      "2     1\n",
      "3     1\n",
      "4     1\n"
     ]
    }
   ],
   "source": [
    "# Crear diccionario de mapeo para la columna Race\n",
    "race_mapping = {\n",
    "    'not reported': 0,\n",
    "    '--': 0,\n",
    "    'white': 1,\n",
    "    'black or african american': 2,\n",
    "    'asian': 3,\n",
    "    'american indian or alaska native': 4\n",
    "}\n",
    "\n",
    "# Aplicar el mapeo a la columna Race\n",
    "Mutations_df['Race'] = Mutations_df['Race'].map(race_mapping)"
   ]
  },
  {
   "cell_type": "code",
   "execution_count": 131,
   "metadata": {},
   "outputs": [],
   "source": [
    "# Función para convertir 'years days' a número decimal\n",
    "def convertir_edad_decimal(age_str):\n",
    "    try:\n",
    "        if not \"days\" in age_str:\n",
    "            return float(age_str.split(' years')[0])\n",
    "        else:\n",
    "            if ' years ' in age_str:\n",
    "                years, days = age_str.split(' years ')\n",
    "                years = int(years)\n",
    "                days = int(days.split(' days')[0])\n",
    "                return round(years + days / 365.25, 2)  # Redondear a 2 decimales\n",
    "    except ValueError:\n",
    "        # En caso de que no se tenga el valor de la edad, devolver None\n",
    "        return None\n",
    "\n",
    "# Aplicar la función a la columna 'Age_at_diagnosis'\n",
    "Mutations_df['Age_at_diagnosis'] = Mutations_df['Age_at_diagnosis'].apply(convertir_edad_decimal)\n",
    "\n"
   ]
  },
  {
   "cell_type": "code",
   "execution_count": 132,
   "metadata": {},
   "outputs": [],
   "source": [
    "#Elimnar las columnas que no se utilizarán, en estes caso no creo conveniente tener la columna de \"Project\" y la de \"Case_ID\" \n",
    "# ya que el proyecto se puede sacar con el grade y el case Id son indiferentes para el analisis de datos posterior\n",
    "Mutations_df.drop(columns=['Project', 'Case_ID'], inplace=True)"
   ]
  },
  {
   "cell_type": "code",
   "execution_count": 133,
   "metadata": {},
   "outputs": [],
   "source": [
    "# Función para extraer el tipo de tumor y la especificación del tumor\n",
    "def extraer_tumor_info(diagnosis):\n",
    "    if diagnosis == '--' or diagnosis not in ['Oligodendroglioma, NOS', 'Glioblastoma' , 'Mixed glioma', 'Astrocytoma, NOS', 'Astrocytoma, anaplastic', 'Oligodendroglioma, anaplastic']:\n",
    "        return pd.Series([None, None])\n",
    "    else:\n",
    "        parts = diagnosis.split(', ')\n",
    "        tumor_type = parts[0]\n",
    "        tumor_specification = parts[1] if len(parts) > 1 else None\n",
    "        return pd.Series([tumor_type, tumor_specification])\n",
    "\n",
    "# Aplicar la función a la columna 'Primary_Diagnosis'\n",
    "Mutations_df[['Tumor_Type', 'Tumor_Specification']] = Mutations_df['Primary_Diagnosis'].apply(extraer_tumor_info)\n",
    "\n",
    "# Eliminar filas con 'Primary_Diagnosis' como None o '--'\n",
    "Mutations_df = Mutations_df.dropna(subset=['Tumor_Type'])\n",
    "\n",
    "# Eliminar la columna 'Primary_Diagnosis' ya que no se utilizará\n",
    "Mutations_df.drop(columns=['Primary_Diagnosis'], inplace=True)\n",
    "# Ordenar las columnas del dataframe para que sea más fácil de leer\n",
    "column_order = ['Grade', 'Gender', 'Age_at_diagnosis', 'Race', 'Tumor_Type', 'Tumor_Specification' , 'IDH1', 'TP53', 'ATRX', 'PTEN', 'EGFR', 'CIC', 'MUC16', 'PIK3CA', 'NF1', 'PIK3R1', 'FUBP1', 'RB1', 'NOTCH1', 'BCOR', 'CSMD3', 'SMARCA4', 'GRIN2A', 'IDH2', 'FAT4', 'PDGFRA']\n",
    "Mutations_df = Mutations_df[column_order]\n"
   ]
  },
  {
   "cell_type": "markdown",
   "metadata": {},
   "source": [
    "#### Guardamos en un Dataset los datos limpios"
   ]
  },
  {
   "cell_type": "code",
   "execution_count": 134,
   "metadata": {},
   "outputs": [],
   "source": [
    "# Salvar el dataframe limpio en un nuevo archivo csv\n",
    "Mutations_df.to_csv(\"./TCGA_GBM_LGG_Mutations_clean.csv\", index=False)"
   ]
  }
 ],
 "metadata": {
  "kernelspec": {
   "display_name": "Python 3",
   "language": "python",
   "name": "python3"
  },
  "language_info": {
   "codemirror_mode": {
    "name": "ipython",
    "version": 3
   },
   "file_extension": ".py",
   "mimetype": "text/x-python",
   "name": "python",
   "nbconvert_exporter": "python",
   "pygments_lexer": "ipython3",
   "version": "3.10.6"
  }
 },
 "nbformat": 4,
 "nbformat_minor": 2
}
